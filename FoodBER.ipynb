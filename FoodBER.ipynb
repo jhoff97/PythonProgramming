{
  "nbformat": 4,
  "nbformat_minor": 0,
  "metadata": {
    "colab": {
      "name": "FoodBER.ipynb",
      "provenance": [],
      "collapsed_sections": [
        "ggjeXjDdqjyB",
        "DMHxstksql7E"
      ],
      "include_colab_link": true
    },
    "kernelspec": {
      "name": "python3",
      "display_name": "Python 3"
    },
    "language_info": {
      "name": "python"
    }
  },
  "cells": [
    {
      "cell_type": "markdown",
      "metadata": {
        "id": "view-in-github",
        "colab_type": "text"
      },
      "source": [
        "<a href=\"https://colab.research.google.com/github/sukaynaKH/PythonProgramming/blob/main/FoodBER.ipynb\" target=\"_parent\"><img src=\"https://colab.research.google.com/assets/colab-badge.svg\" alt=\"Open In Colab\"/></a>"
      ]
    },
    {
      "cell_type": "markdown",
      "metadata": {
        "id": "4HZIDSaEkupW"
      },
      "source": [
        "# FoodBER: *For Berliners on the go!*"
      ]
    },
    {
      "cell_type": "markdown",
      "metadata": {
        "id": "6eaGOJKzh7XT"
      },
      "source": [
        "Berliners are a busy bunch who want quick meals and good vibes without breaking the bank. Ever the fans of good recommendations, they cannot be arsed to spend hours going over restaurants to decide which place offers the most unique culinary experience they so desire. \n",
        "\n",
        "Our program allows anyone to input criteria on what cuisine they would like to try, the money they are willing to spend given the rating they demand. The program will make recommendations based on user input, providing additional information to make the choice easier for the user.\n"
      ]
    },
    {
      "cell_type": "markdown",
      "metadata": {
        "id": "H_ZCz1ojkhdl"
      },
      "source": [
        "### Let's begin!"
      ]
    },
    {
      "cell_type": "markdown",
      "metadata": {
        "id": "2n2MK-YHqc0j"
      },
      "source": [
        "# Module 1\n",
        "### Ask for input\n",
        "\n",
        "The user will be asked to provide their preferred cuisine style, price and rating."
      ]
    },
    {
      "cell_type": "code",
      "metadata": {
        "id": "XeYnzjhRfqGb",
        "colab": {
          "base_uri": "https://localhost:8080/"
        },
        "outputId": "d04f0ba7-08a1-4364-c02f-20d0908d419f"
      },
      "source": [
        "# link to google colab to call dataset\n",
        "# google.colab refers to the Jupyter notebook the runs on the cloud and was developed as product from Google Research\n",
        "# google.colab allows the user to write,execute code in Python. We can upload and share notebooks (File.ipynb) with others using a google account \n",
        "# External datasets can be imported into the notebook environment\n",
        "\n",
        "from google.colab import drive\n",
        "drive.mount('/content/drive')\n",
        "\n",
        "# Function \"from\" designates the location of the drive within \"google.colab\" in which the dataset is placed\n",
        "# Function \"import\" specifies what functionality or library is to be imported and links it to the FoodBER.ipynb \n",
        "# File and drive path is specified using \"drive.mount\""
      ],
      "execution_count": 2,
      "outputs": [
        {
          "output_type": "stream",
          "name": "stdout",
          "text": [
            "Mounted at /content/drive\n"
          ]
        }
      ]
    },
    {
      "cell_type": "code",
      "metadata": {
        "id": "8glgJie2fukH"
      },
      "source": [
        "# import modules\n",
        "import pandas as pd\n",
        "from google.colab import data_table\n",
        "data_table.enable_dataframe_formatter()\n",
        "\n",
        "# Pandas is the library being imported and it is referenced using \"as\" by the shortname pd which is the standard shortname for Pandas library\n",
        "# \"from\" designates location of the extension in colab that exhibits panda dataframes into interactive displays. \n",
        "# This allows us to work with dataframes that can be dynamically filtered and sorted \n",
        "# This extension suits our purpose of exploring the dataset to provide resturant recommendations according to the dynamic input/s provided by the end user\n",
        "# Data table display is enabled by running the code \"data_table.enable_dataframe_formatter()\" in conjuction to the import"
      ],
      "execution_count": 3,
      "outputs": []
    },
    {
      "cell_type": "code",
      "metadata": {
        "colab": {
          "base_uri": "https://localhost:8080/",
          "height": 362
        },
        "id": "TKVIgrZGnGAJ",
        "outputId": "4c2b4455-5a12-42b4-bd28-8420814c04ba"
      },
      "source": [
        "# read in dataset\n",
        "berlin = pd.read_csv('/content/drive/MyDrive/E1326 Python Programming/Project: HertiEats/TAdata/TA_berlin_clean.csv')\n",
        "berlin.head()\n",
        "# The dataset is saved/designated as the object \"berlin\" and read using the \"pd.read_csv\" function as the dataset is saved as a comma-separated values file. The filepath has also been specified in this line of code\n",
        "# We used the \".head()\" pandas function to return the first n rows of the called/specified object\n",
        "# The \".head()\" fuction helps us to test our object has the correct type of data. \n",
        "# Though the output here showcases only 5 rows as that is the default value of the function, our dataset will still consist of 50 rows which will be filtered and sorted as per the input provided by the end user"
      ],
      "execution_count": 31,
      "outputs": [
        {
          "output_type": "execute_result",
          "data": {
            "application/vnd.google.colaboratory.module+javascript": "\n      import \"https://ssl.gstatic.com/colaboratory/data_table/a6224c040fa35dcf/data_table.js\";\n\n      window.createDataTable({\n        data: [[{\n            'v': 0,\n            'f': \"0\",\n        },\n\"FACIL\",\n\"['International', 'European', 'Gluten Free Options']\",\n{\n            'v': 1.0,\n            'f': \"1.0\",\n        },\n{\n            'v': 4.5,\n            'f': \"4.5\",\n        },\n\"High\",\n{\n            'v': 687.0,\n            'f': \"687.0\",\n        },\n\"[['What a way to turn 60!', 'Only to recommend'], ['01/03/2018', '12/22/2017']]\",\n\"https://www.tripadvisor.com/Restaurant_Review-g187323-d695657-Reviews-FACIL-Berlin.html\"],\n [{\n            'v': 1,\n            'f': \"1\",\n        },\n\"La Gondola Due\",\n\"['Italian', 'Mediterranean', 'European', 'Vegetarian Friendly', 'Vegan Options', 'Gluten Free Options']\",\n{\n            'v': 2.0,\n            'f': \"2.0\",\n        },\n{\n            'v': 4.5,\n            'f': \"4.5\",\n        },\n\"Medium\",\n{\n            'v': 282.0,\n            'f': \"282.0\",\n        },\n\"[['Great food!', 'Very good'], ['12/17/2017', '12/04/2017']]\",\n\"https://www.tripadvisor.com/Restaurant_Review-g187323-d3805087-Reviews-La_Gondola_Due-Berlin.html\"],\n [{\n            'v': 2,\n            'f': \"2\",\n        },\n\"Ristorante A Mano\",\n\"['Italian', 'Mediterranean', 'European', 'Vegetarian Friendly', 'Vegan Options']\",\n{\n            'v': 3.0,\n            'f': \"3.0\",\n        },\n{\n            'v': 4.5,\n            'f': \"4.5\",\n        },\n\"Medium\",\n{\n            'v': 1501.0,\n            'f': \"1501.0\",\n        },\n\"[['Sensational!', 'Delicious food and lovely service'], ['01/08/2018', '01/07/2018']]\",\n\"https://www.tripadvisor.com/Restaurant_Review-g187323-d3546513-Reviews-Ristorante_A_Mano-Berlin.html\"],\n [{\n            'v': 3,\n            'f': \"3\",\n        },\n\"Restaurant Bieberbau\",\n\"['German', 'Central European', 'Vegetarian Friendly', 'Vegan Options', 'Gluten Free Options']\",\n{\n            'v': 4.0,\n            'f': \"4.0\",\n        },\n{\n            'v': 4.5,\n            'f': \"4.5\",\n        },\n\"High\",\n{\n            'v': 621.0,\n            'f': \"621.0\",\n        },\n\"[['Excellent restaurant', 'Perfect Birthday treat'], ['12/27/2017', '12/18/2017']]\",\n\"https://www.tripadvisor.com/Restaurant_Review-g187323-d1344159-Reviews-Restaurant_Bieberbau-Berlin.html\"],\n [{\n            'v': 4,\n            'f': \"4\",\n        },\n\"El Loco\",\n\"['Mexican', 'Central American', 'Vegetarian Friendly', 'Vegan Options']\",\n{\n            'v': 5.0,\n            'f': \"5.0\",\n        },\n{\n            'v': 5.0,\n            'f': \"5.0\",\n        },\n\"Medium\",\n{\n            'v': 171.0,\n            'f': \"171.0\",\n        },\n\"[['Join the Loco family \\ud83d\\ude09', 'Best sweet potato fries!'], ['11/07/2017', '10/30/2017']]\",\n\"https://www.tripadvisor.com/Restaurant_Review-g187323-d6499724-Reviews-El_Loco-Berlin.html\"]],\n        columns: [[\"number\", \"index\"], [\"string\", \"Name\"], [\"string\", \"Cuisine\"], [\"number\", \"Ranking\"], [\"number\", \"Rating\"], [\"string\", \"Price\"], [\"number\", \"ReviewCount\"], [\"string\", \"Reviews\"], [\"string\", \"URL_TA\"]],\n        columnOptions: [{\"width\": \"1px\", \"className\": \"index_column\"}],\n        rowsPerPage: 25,\n        helpUrl: \"https://colab.research.google.com/notebooks/data_table.ipynb\",\n        suppressOutputScrolling: true,\n        minimumWidth: undefined,\n      });\n    ",
            "text/html": [
              "\n",
              "  <div id=\"df-3f43650f-d75c-41b8-a7fa-58603e3165b0\">\n",
              "    <div class=\"colab-df-container\">\n",
              "      <div>\n",
              "<style scoped>\n",
              "    .dataframe tbody tr th:only-of-type {\n",
              "        vertical-align: middle;\n",
              "    }\n",
              "\n",
              "    .dataframe tbody tr th {\n",
              "        vertical-align: top;\n",
              "    }\n",
              "\n",
              "    .dataframe thead th {\n",
              "        text-align: right;\n",
              "    }\n",
              "</style>\n",
              "<table border=\"1\" class=\"dataframe\">\n",
              "  <thead>\n",
              "    <tr style=\"text-align: right;\">\n",
              "      <th></th>\n",
              "      <th>Name</th>\n",
              "      <th>Cuisine</th>\n",
              "      <th>Ranking</th>\n",
              "      <th>Rating</th>\n",
              "      <th>Price</th>\n",
              "      <th>ReviewCount</th>\n",
              "      <th>Reviews</th>\n",
              "      <th>URL_TA</th>\n",
              "    </tr>\n",
              "  </thead>\n",
              "  <tbody>\n",
              "    <tr>\n",
              "      <th>0</th>\n",
              "      <td>FACIL</td>\n",
              "      <td>['International', 'European', 'Gluten Free Opt...</td>\n",
              "      <td>1.0</td>\n",
              "      <td>4.5</td>\n",
              "      <td>High</td>\n",
              "      <td>687.0</td>\n",
              "      <td>[['What a way to turn 60!', 'Only to recommend...</td>\n",
              "      <td>https://www.tripadvisor.com/Restaurant_Review-...</td>\n",
              "    </tr>\n",
              "    <tr>\n",
              "      <th>1</th>\n",
              "      <td>La Gondola Due</td>\n",
              "      <td>['Italian', 'Mediterranean', 'European', 'Vege...</td>\n",
              "      <td>2.0</td>\n",
              "      <td>4.5</td>\n",
              "      <td>Medium</td>\n",
              "      <td>282.0</td>\n",
              "      <td>[['Great food!', 'Very good'], ['12/17/2017', ...</td>\n",
              "      <td>https://www.tripadvisor.com/Restaurant_Review-...</td>\n",
              "    </tr>\n",
              "    <tr>\n",
              "      <th>2</th>\n",
              "      <td>Ristorante A Mano</td>\n",
              "      <td>['Italian', 'Mediterranean', 'European', 'Vege...</td>\n",
              "      <td>3.0</td>\n",
              "      <td>4.5</td>\n",
              "      <td>Medium</td>\n",
              "      <td>1501.0</td>\n",
              "      <td>[['Sensational!', 'Delicious food and lovely s...</td>\n",
              "      <td>https://www.tripadvisor.com/Restaurant_Review-...</td>\n",
              "    </tr>\n",
              "    <tr>\n",
              "      <th>3</th>\n",
              "      <td>Restaurant Bieberbau</td>\n",
              "      <td>['German', 'Central European', 'Vegetarian Fri...</td>\n",
              "      <td>4.0</td>\n",
              "      <td>4.5</td>\n",
              "      <td>High</td>\n",
              "      <td>621.0</td>\n",
              "      <td>[['Excellent restaurant', 'Perfect Birthday tr...</td>\n",
              "      <td>https://www.tripadvisor.com/Restaurant_Review-...</td>\n",
              "    </tr>\n",
              "    <tr>\n",
              "      <th>4</th>\n",
              "      <td>El Loco</td>\n",
              "      <td>['Mexican', 'Central American', 'Vegetarian Fr...</td>\n",
              "      <td>5.0</td>\n",
              "      <td>5.0</td>\n",
              "      <td>Medium</td>\n",
              "      <td>171.0</td>\n",
              "      <td>[['Join the Loco family 😉', 'Best sweet potato...</td>\n",
              "      <td>https://www.tripadvisor.com/Restaurant_Review-...</td>\n",
              "    </tr>\n",
              "  </tbody>\n",
              "</table>\n",
              "</div>\n",
              "      <button class=\"colab-df-convert\" onclick=\"convertToInteractive('df-3f43650f-d75c-41b8-a7fa-58603e3165b0')\"\n",
              "              title=\"Convert this dataframe to an interactive table.\"\n",
              "              style=\"display:none;\">\n",
              "        \n",
              "  <svg xmlns=\"http://www.w3.org/2000/svg\" height=\"24px\"viewBox=\"0 0 24 24\"\n",
              "       width=\"24px\">\n",
              "    <path d=\"M0 0h24v24H0V0z\" fill=\"none\"/>\n",
              "    <path d=\"M18.56 5.44l.94 2.06.94-2.06 2.06-.94-2.06-.94-.94-2.06-.94 2.06-2.06.94zm-11 1L8.5 8.5l.94-2.06 2.06-.94-2.06-.94L8.5 2.5l-.94 2.06-2.06.94zm10 10l.94 2.06.94-2.06 2.06-.94-2.06-.94-.94-2.06-.94 2.06-2.06.94z\"/><path d=\"M17.41 7.96l-1.37-1.37c-.4-.4-.92-.59-1.43-.59-.52 0-1.04.2-1.43.59L10.3 9.45l-7.72 7.72c-.78.78-.78 2.05 0 2.83L4 21.41c.39.39.9.59 1.41.59.51 0 1.02-.2 1.41-.59l7.78-7.78 2.81-2.81c.8-.78.8-2.07 0-2.86zM5.41 20L4 18.59l7.72-7.72 1.47 1.35L5.41 20z\"/>\n",
              "  </svg>\n",
              "      </button>\n",
              "      \n",
              "  <style>\n",
              "    .colab-df-container {\n",
              "      display:flex;\n",
              "      flex-wrap:wrap;\n",
              "      gap: 12px;\n",
              "    }\n",
              "\n",
              "    .colab-df-convert {\n",
              "      background-color: #E8F0FE;\n",
              "      border: none;\n",
              "      border-radius: 50%;\n",
              "      cursor: pointer;\n",
              "      display: none;\n",
              "      fill: #1967D2;\n",
              "      height: 32px;\n",
              "      padding: 0 0 0 0;\n",
              "      width: 32px;\n",
              "    }\n",
              "\n",
              "    .colab-df-convert:hover {\n",
              "      background-color: #E2EBFA;\n",
              "      box-shadow: 0px 1px 2px rgba(60, 64, 67, 0.3), 0px 1px 3px 1px rgba(60, 64, 67, 0.15);\n",
              "      fill: #174EA6;\n",
              "    }\n",
              "\n",
              "    [theme=dark] .colab-df-convert {\n",
              "      background-color: #3B4455;\n",
              "      fill: #D2E3FC;\n",
              "    }\n",
              "\n",
              "    [theme=dark] .colab-df-convert:hover {\n",
              "      background-color: #434B5C;\n",
              "      box-shadow: 0px 1px 3px 1px rgba(0, 0, 0, 0.15);\n",
              "      filter: drop-shadow(0px 1px 2px rgba(0, 0, 0, 0.3));\n",
              "      fill: #FFFFFF;\n",
              "    }\n",
              "  </style>\n",
              "\n",
              "      <script>\n",
              "        const buttonEl =\n",
              "          document.querySelector('#df-3f43650f-d75c-41b8-a7fa-58603e3165b0 button.colab-df-convert');\n",
              "        buttonEl.style.display =\n",
              "          google.colab.kernel.accessAllowed ? 'block' : 'none';\n",
              "\n",
              "        async function convertToInteractive(key) {\n",
              "          const element = document.querySelector('#df-3f43650f-d75c-41b8-a7fa-58603e3165b0');\n",
              "          const dataTable =\n",
              "            await google.colab.kernel.invokeFunction('convertToInteractive',\n",
              "                                                     [key], {});\n",
              "          if (!dataTable) return;\n",
              "\n",
              "          const docLinkHtml = 'Like what you see? Visit the ' +\n",
              "            '<a target=\"_blank\" href=https://colab.research.google.com/notebooks/data_table.ipynb>data table notebook</a>'\n",
              "            + ' to learn more about interactive tables.';\n",
              "          element.innerHTML = '';\n",
              "          dataTable['output_type'] = 'display_data';\n",
              "          await google.colab.output.renderOutput(dataTable, element);\n",
              "          const docLink = document.createElement('div');\n",
              "          docLink.innerHTML = docLinkHtml;\n",
              "          element.appendChild(docLink);\n",
              "        }\n",
              "      </script>\n",
              "    </div>\n",
              "  </div>\n",
              "  "
            ],
            "text/plain": [
              "                   Name  ...                                             URL_TA\n",
              "0                 FACIL  ...  https://www.tripadvisor.com/Restaurant_Review-...\n",
              "1        La Gondola Due  ...  https://www.tripadvisor.com/Restaurant_Review-...\n",
              "2     Ristorante A Mano  ...  https://www.tripadvisor.com/Restaurant_Review-...\n",
              "3  Restaurant Bieberbau  ...  https://www.tripadvisor.com/Restaurant_Review-...\n",
              "4               El Loco  ...  https://www.tripadvisor.com/Restaurant_Review-...\n",
              "\n",
              "[5 rows x 8 columns]"
            ]
          },
          "metadata": {},
          "execution_count": 31
        }
      ]
    },
    {
      "cell_type": "code",
      "metadata": {
        "id": "rRW2z918rf2w",
        "colab": {
          "base_uri": "https://localhost:8080/"
        },
        "outputId": "a9852b0a-db72-42a2-aab2-078aaef6f48b"
      },
      "source": [
        "# one version of input function\n",
        "input(\"Welcome to FoodBER. You must be hungry! Press enter to start.\")\n",
        "\n",
        "# The input function allows us to attain input from a user using a prompt arguement. \n",
        "# The input function reads the information/text from the input provided by the user and converts it into a string while stripping the trailing newline\n",
        "# Here the first input request is fulfilled by the pressing the enter key\n",
        "\n",
        "u_cuisine = input(\"What type of cuisine do you like? \") # ideally show list of cuisines available\n",
        "u_price = input(\"What is your price range? Enter: High, Medium or Low\") # ideally show list of price points\n",
        "u_rating = float(input(\"What is your rating preference? Chose from 5.0 to 1.0\"))\n",
        "\n",
        "# The variable \"u_cuisine\" is created based upon the users input for their cuisine preference \n",
        "# The variable \"u_price\" is created based upon the users input for their price preference \n",
        "# The variable \"u_rating\" is created based upon the users input for their preferred rating for a resturant. \n",
        "# Since the dataset ratings are denoted as 1,2,3 etc numbers instead of 1 star, 2 star etc \n",
        "# In order to filter and compare the ratings, the input has to converted into a float from a string using \"float\" infront of the input function"
      ],
      "execution_count": 32,
      "outputs": [
        {
          "name": "stdout",
          "output_type": "stream",
          "text": [
            "Welcome to FoodBER. You must be hungry! Press enter to start.\n",
            "What type of cuisine do you like? Italian\n",
            "What is your price range? Enter: High, Medium or LowHigh\n",
            "What is your rating preference? Chose from 5.0 to 1.03\n"
          ]
        }
      ]
    },
    {
      "cell_type": "code",
      "source": [
        "# Alternative display for the input\n",
        "#@title Welcome to HertiEATS! { display-mode: \"both\" }\n",
        "#@markdown Pick some choices below to get started:\n",
        "\n",
        "Cuisine = 'Healthy' #@param [\"Asian\", \"German\", \"Mediterranean\", \"American\", \"Middle East\", \"Sushi\", \"Cafe\", \"Central European\", \" European\", \"Vegan Options\", \"Vegetarian Friendly'\", \"International\", \"Gluten Free Options\", \"Healthy\", \"Soups\", \"Italian\", \"Vietnamese\", \"Greek\", \"Japanese\", \"Indonesian\", \"Gastropub\", \"Fast Food\", \"Fusion\", \"Halal\", \"French\", \"Korean\", \"Turkish\", \"Israeli\", \"Ukrainian\", \"Russian\", \"Eastern European\", \"Austrian \", \"Indian\", \"Contemporary\", \"Bar\", \"Latin\", \"Chilean\", \"Steakhouse\", \"Barbecue\", \"Delicatessen\", \"Diner\", \"Chinese \", \"Brazilian\", \"Pizza\", \"Choose Below\", \"Mexican\"]\n",
        "Price = 'Low' #@param [\"Choose Below\", \"High\", \"Medium\", \"Low\"]\n",
        "Rating = 5.0 #@param [\"1.0\", \"2.0\", \"3.0\", \"4.0\", \"5.0\", \"0-5\"] {type:\"raw\"}\n",
        "\n",
        "print(Cuisine) \n",
        "print(Price)\n",
        "print(Rating)"
      ],
      "metadata": {
        "colab": {
          "base_uri": "https://localhost:8080/"
        },
        "id": "shhfN7tzn2-1",
        "outputId": "a4c2ffb3-726c-4544-9cdc-c6719cfa7c61"
      },
      "execution_count": 40,
      "outputs": [
        {
          "output_type": "stream",
          "name": "stdout",
          "text": [
            "Healthy\n",
            "Low\n",
            "5.0\n"
          ]
        }
      ]
    },
    {
      "cell_type": "markdown",
      "metadata": {
        "id": "ggjeXjDdqjyB"
      },
      "source": [
        "# Module 2 [REMOVED]\n",
        "\n",
        "## Scrape restaurant data \n",
        "\n",
        "The program will scrape restaurant data using APIs from websites like Yelp and TripAdvisor on relevant restaurants in the vicinity for later categorization and organise it into a database for use (ideally as a dictionary or tuples).\n"
      ]
    },
    {
      "cell_type": "code",
      "metadata": {
        "id": "5qLq_A652KGv",
        "cellView": "form"
      },
      "source": [
        "#@title\n",
        "import requests\n",
        "from bs4 import BeautifulSoup\n",
        "import re"
      ],
      "execution_count": null,
      "outputs": []
    },
    {
      "cell_type": "code",
      "metadata": {
        "id": "WD8mCGy82NqC",
        "cellView": "form"
      },
      "source": [
        "#@title\n",
        "req = requests.get(route)\n",
        "soup = BS(req.content, \"html.parser\")\n",
        "rest_info = soup.find(\"teaser \", id=\"block teaser place basis \")\n",
        "print(rest_info.prettify())"
      ],
      "execution_count": null,
      "outputs": []
    },
    {
      "cell_type": "code",
      "metadata": {
        "id": "FY7DsYzYX9Ys",
        "cellView": "form"
      },
      "source": [
        "#@title\n",
        "# different method\n",
        "page = requests.get(\"http://www.gastroguide.de/search/?what=&query=Friedrichstra%C3%9Fe%2C+Berlin\")\n",
        "soup = BeautifulSoup(page.content, 'html.parser')\n",
        "gastro = soup.find(class_='gastrolist')\n",
        "rest_name = gastro.find_all(class_=\"glbody\")"
      ],
      "execution_count": null,
      "outputs": []
    },
    {
      "cell_type": "code",
      "metadata": {
        "id": "vJXtulkDYyq6",
        "cellView": "form"
      },
      "source": [
        "#@title\n",
        "# extract and print second item\n",
        "places = rest_name[0] \n",
        "print(places.prettify())"
      ],
      "execution_count": null,
      "outputs": []
    },
    {
      "cell_type": "code",
      "metadata": {
        "id": "SQN9iTKmWzn5",
        "cellView": "form"
      },
      "source": [
        "#@title\n",
        "# new new method\n",
        "header = {\"User-Agent\": \"Mozilla/5.0 (Windows NT 10.0; Win64; x64) AppleWebKit/537.36 (KHTML, like Gecko) Chrome/92.0.4515.107 Safari/537.36\"}\n",
        "resp = requests.get('https://www.tripadvisor.com/RestaurantsNear-g187323-d190583-Friedrichstrasse-Berlin.html', headers=header)\n",
        "if resp.status_code == 200:\n",
        "    soup = BeautifulSoup(resp.text, 'lxml')\n",
        "    cards = soup.find_all('div', {'data-automation': 'cardWrapper'})\n",
        "    for card in cards:\n",
        "        rating = card.find('svg', {'class': 'zWXXYhVR'})\n",
        "        match = re.match('Punteggio ([0-9,]+)', rating.attrs['aria-label'])[1]\n",
        "        print(float(match.replace(',', '.')))"
      ],
      "execution_count": null,
      "outputs": []
    },
    {
      "cell_type": "markdown",
      "metadata": {
        "id": "DMHxstksql7E"
      },
      "source": [
        "# Module 3\n",
        "\n",
        "## Creating the database\n",
        "\n",
        "Our program will call on a database of restaurants to serve as a point of reference. The database will be dictionary-based and will include information on the distance, cuisine and price point of restaurants. The aim is to also include information on the waiting time, indoor-outdoor seating options and menu recommendations inclusive of dietary restrictions where possible. \n"
      ]
    },
    {
      "cell_type": "code",
      "metadata": {
        "id": "nzFTAV5npV27"
      },
      "source": [
        "# IMPORTANT: Please note that the dataset used in Module 1 is the result of Module 3 \n",
        "# The raw dataset was cleaned and edited separately and in Module 3 before being saved as the \"TA_berlin_clean.csv\" file \n",
        "\n",
        "# read in dataset and clean data for processing\n",
        "# drop unnamed index column\n",
        "data = pd.read_csv('/content/drive/MyDrive/E1326 Python Programming/Project: HertiEats/TAdata/TA_berlin.csv', index_col=0)\n",
        "\n",
        "# The object \"data\" is created and read using the pandas \"pd.read_csv\" function\n",
        "# \"index_col=0\" overrides the default usage of the column names as the index in this dataframe \n",
        "\n",
        "\n",
        "# drop ID_TA column\n",
        "data = data.drop(['City','ID_TA'], axis=1)\n",
        "# We removed the specified label named \"City, ID_TA\" and additionally specified the corresponding axis for this label in the index\n",
        "\n",
        "# drop rows with missing values NaN\n",
        "data = data.dropna(subset=['Name', 'Cuisine Style', 'Rating', 'Price Range'])\n",
        "# Similarly we removed the missing values using the \".dropna\" function in pandas. \n",
        "# The subset where the missing values need to removed are specified for assessment of NaN cells within the columns \"Name\",\"Cuisine style\",\"Rating\",\"Price Range\"\n",
        "\n",
        "# recode price range column\n",
        "data = data.replace({'Price Range': {'$$$$': 'High', '$$ - $$$' : 'Medium', '$':'Low'}})\n",
        "# The the Price Range column within our datasframe consists of $ symbols but we want to present the price range a High, Medium, Low options to our end users\n",
        "# To do this we use the \".replace\" function to code in \"x:y\" a replacemant in the values such that the value given in space X is exchanged for the value in space Y\n",
        "\n",
        "# rename columns\n",
        "data = data.rename({'Cuisine Style': 'Cuisine', 'Price Range': 'Price', 'Number of Reviews': 'ReviewCount'}, axis='columns')\n",
        "# For ease of recall and aesthetics we chose to rename the labels of out dataframe using the pandas function \".rename\" and we specified the axis as the columns  "
      ],
      "execution_count": 33,
      "outputs": []
    },
    {
      "cell_type": "code",
      "metadata": {
        "id": "ZaC2vEWQBq5m"
      },
      "source": [
        "# add in https to strings to convert to urls\n",
        "data['URL_TA'] = 'https://www.tripadvisor.com' + data['URL_TA'].astype(str)\n",
        "\n",
        "# We want to access and edit our dictionary values within the \"URL_TA\" column \n",
        "# Beacuse we provide our end users with ease of accessing resturant information online by adding https to the html link we already have in the dataframe \n",
        "# For this the dictionary \"data\" is selected and the key specified is the column \"URL_TA\"\n",
        "# The value 'https://www.tripadvisor.com' is added using \"+\" to the existing cell information in the key named \"data['URL_TA']\" \n",
        "# The function \".astype(str)\" designates the type of the cell as a string or sequence of characters "
      ],
      "execution_count": 34,
      "outputs": []
    },
    {
      "cell_type": "code",
      "metadata": {
        "id": "nvj1U-YQV9e5",
        "colab": {
          "base_uri": "https://localhost:8080/",
          "height": 362
        },
        "outputId": "f97c51dc-9901-4812-88f8-d37b562deb9f"
      },
      "source": [
        "data.head(5)\n",
        "# This code quickly checks the output (deafult 5 rows) to ascertain if the intended dataframe correspondingly adapts to the criteria and infromation that we wanted it to include/exclude"
      ],
      "execution_count": 35,
      "outputs": [
        {
          "output_type": "execute_result",
          "data": {
            "application/vnd.google.colaboratory.module+javascript": "\n      import \"https://ssl.gstatic.com/colaboratory/data_table/a6224c040fa35dcf/data_table.js\";\n\n      window.createDataTable({\n        data: [[{\n            'v': 0,\n            'f': \"0\",\n        },\n\"FACIL\",\n\"['International', 'European', 'Gluten Free Options']\",\n{\n            'v': 1.0,\n            'f': \"1.0\",\n        },\n{\n            'v': 4.5,\n            'f': \"4.5\",\n        },\n\"High\",\n{\n            'v': 687.0,\n            'f': \"687.0\",\n        },\n\"[['What a way to turn 60!', 'Only to recommend'], ['01/03/2018', '12/22/2017']]\",\n\"https://www.tripadvisor.com/Restaurant_Review-g187323-d695657-Reviews-FACIL-Berlin.html\"],\n [{\n            'v': 1,\n            'f': \"1\",\n        },\n\"La Gondola Due\",\n\"['Italian', 'Mediterranean', 'European', 'Vegetarian Friendly', 'Vegan Options', 'Gluten Free Options']\",\n{\n            'v': 2.0,\n            'f': \"2.0\",\n        },\n{\n            'v': 4.5,\n            'f': \"4.5\",\n        },\n\"Medium\",\n{\n            'v': 282.0,\n            'f': \"282.0\",\n        },\n\"[['Great food!', 'Very good'], ['12/17/2017', '12/04/2017']]\",\n\"https://www.tripadvisor.com/Restaurant_Review-g187323-d3805087-Reviews-La_Gondola_Due-Berlin.html\"],\n [{\n            'v': 2,\n            'f': \"2\",\n        },\n\"Ristorante A Mano\",\n\"['Italian', 'Mediterranean', 'European', 'Vegetarian Friendly', 'Vegan Options']\",\n{\n            'v': 3.0,\n            'f': \"3.0\",\n        },\n{\n            'v': 4.5,\n            'f': \"4.5\",\n        },\n\"Medium\",\n{\n            'v': 1501.0,\n            'f': \"1501.0\",\n        },\n\"[['Sensational!', 'Delicious food and lovely service'], ['01/08/2018', '01/07/2018']]\",\n\"https://www.tripadvisor.com/Restaurant_Review-g187323-d3546513-Reviews-Ristorante_A_Mano-Berlin.html\"],\n [{\n            'v': 3,\n            'f': \"3\",\n        },\n\"Restaurant Bieberbau\",\n\"['German', 'Central European', 'Vegetarian Friendly', 'Vegan Options', 'Gluten Free Options']\",\n{\n            'v': 4.0,\n            'f': \"4.0\",\n        },\n{\n            'v': 4.5,\n            'f': \"4.5\",\n        },\n\"High\",\n{\n            'v': 621.0,\n            'f': \"621.0\",\n        },\n\"[['Excellent restaurant', 'Perfect Birthday treat'], ['12/27/2017', '12/18/2017']]\",\n\"https://www.tripadvisor.com/Restaurant_Review-g187323-d1344159-Reviews-Restaurant_Bieberbau-Berlin.html\"],\n [{\n            'v': 4,\n            'f': \"4\",\n        },\n\"El Loco\",\n\"['Mexican', 'Central American', 'Vegetarian Friendly', 'Vegan Options']\",\n{\n            'v': 5.0,\n            'f': \"5.0\",\n        },\n{\n            'v': 5.0,\n            'f': \"5.0\",\n        },\n\"Medium\",\n{\n            'v': 171.0,\n            'f': \"171.0\",\n        },\n\"[['Join the Loco family \\ud83d\\ude09', 'Best sweet potato fries!'], ['11/07/2017', '10/30/2017']]\",\n\"https://www.tripadvisor.com/Restaurant_Review-g187323-d6499724-Reviews-El_Loco-Berlin.html\"]],\n        columns: [[\"number\", \"index\"], [\"string\", \"Name\"], [\"string\", \"Cuisine\"], [\"number\", \"Ranking\"], [\"number\", \"Rating\"], [\"string\", \"Price\"], [\"number\", \"ReviewCount\"], [\"string\", \"Reviews\"], [\"string\", \"URL_TA\"]],\n        columnOptions: [{\"width\": \"1px\", \"className\": \"index_column\"}],\n        rowsPerPage: 25,\n        helpUrl: \"https://colab.research.google.com/notebooks/data_table.ipynb\",\n        suppressOutputScrolling: true,\n        minimumWidth: undefined,\n      });\n    ",
            "text/html": [
              "\n",
              "  <div id=\"df-849a3c8f-7f5f-4f4e-9281-741b71196a06\">\n",
              "    <div class=\"colab-df-container\">\n",
              "      <div>\n",
              "<style scoped>\n",
              "    .dataframe tbody tr th:only-of-type {\n",
              "        vertical-align: middle;\n",
              "    }\n",
              "\n",
              "    .dataframe tbody tr th {\n",
              "        vertical-align: top;\n",
              "    }\n",
              "\n",
              "    .dataframe thead th {\n",
              "        text-align: right;\n",
              "    }\n",
              "</style>\n",
              "<table border=\"1\" class=\"dataframe\">\n",
              "  <thead>\n",
              "    <tr style=\"text-align: right;\">\n",
              "      <th></th>\n",
              "      <th>Name</th>\n",
              "      <th>Cuisine</th>\n",
              "      <th>Ranking</th>\n",
              "      <th>Rating</th>\n",
              "      <th>Price</th>\n",
              "      <th>ReviewCount</th>\n",
              "      <th>Reviews</th>\n",
              "      <th>URL_TA</th>\n",
              "    </tr>\n",
              "  </thead>\n",
              "  <tbody>\n",
              "    <tr>\n",
              "      <th>0</th>\n",
              "      <td>FACIL</td>\n",
              "      <td>['International', 'European', 'Gluten Free Opt...</td>\n",
              "      <td>1.0</td>\n",
              "      <td>4.5</td>\n",
              "      <td>High</td>\n",
              "      <td>687.0</td>\n",
              "      <td>[['What a way to turn 60!', 'Only to recommend...</td>\n",
              "      <td>https://www.tripadvisor.com/Restaurant_Review-...</td>\n",
              "    </tr>\n",
              "    <tr>\n",
              "      <th>1</th>\n",
              "      <td>La Gondola Due</td>\n",
              "      <td>['Italian', 'Mediterranean', 'European', 'Vege...</td>\n",
              "      <td>2.0</td>\n",
              "      <td>4.5</td>\n",
              "      <td>Medium</td>\n",
              "      <td>282.0</td>\n",
              "      <td>[['Great food!', 'Very good'], ['12/17/2017', ...</td>\n",
              "      <td>https://www.tripadvisor.com/Restaurant_Review-...</td>\n",
              "    </tr>\n",
              "    <tr>\n",
              "      <th>2</th>\n",
              "      <td>Ristorante A Mano</td>\n",
              "      <td>['Italian', 'Mediterranean', 'European', 'Vege...</td>\n",
              "      <td>3.0</td>\n",
              "      <td>4.5</td>\n",
              "      <td>Medium</td>\n",
              "      <td>1501.0</td>\n",
              "      <td>[['Sensational!', 'Delicious food and lovely s...</td>\n",
              "      <td>https://www.tripadvisor.com/Restaurant_Review-...</td>\n",
              "    </tr>\n",
              "    <tr>\n",
              "      <th>3</th>\n",
              "      <td>Restaurant Bieberbau</td>\n",
              "      <td>['German', 'Central European', 'Vegetarian Fri...</td>\n",
              "      <td>4.0</td>\n",
              "      <td>4.5</td>\n",
              "      <td>High</td>\n",
              "      <td>621.0</td>\n",
              "      <td>[['Excellent restaurant', 'Perfect Birthday tr...</td>\n",
              "      <td>https://www.tripadvisor.com/Restaurant_Review-...</td>\n",
              "    </tr>\n",
              "    <tr>\n",
              "      <th>4</th>\n",
              "      <td>El Loco</td>\n",
              "      <td>['Mexican', 'Central American', 'Vegetarian Fr...</td>\n",
              "      <td>5.0</td>\n",
              "      <td>5.0</td>\n",
              "      <td>Medium</td>\n",
              "      <td>171.0</td>\n",
              "      <td>[['Join the Loco family 😉', 'Best sweet potato...</td>\n",
              "      <td>https://www.tripadvisor.com/Restaurant_Review-...</td>\n",
              "    </tr>\n",
              "  </tbody>\n",
              "</table>\n",
              "</div>\n",
              "      <button class=\"colab-df-convert\" onclick=\"convertToInteractive('df-849a3c8f-7f5f-4f4e-9281-741b71196a06')\"\n",
              "              title=\"Convert this dataframe to an interactive table.\"\n",
              "              style=\"display:none;\">\n",
              "        \n",
              "  <svg xmlns=\"http://www.w3.org/2000/svg\" height=\"24px\"viewBox=\"0 0 24 24\"\n",
              "       width=\"24px\">\n",
              "    <path d=\"M0 0h24v24H0V0z\" fill=\"none\"/>\n",
              "    <path d=\"M18.56 5.44l.94 2.06.94-2.06 2.06-.94-2.06-.94-.94-2.06-.94 2.06-2.06.94zm-11 1L8.5 8.5l.94-2.06 2.06-.94-2.06-.94L8.5 2.5l-.94 2.06-2.06.94zm10 10l.94 2.06.94-2.06 2.06-.94-2.06-.94-.94-2.06-.94 2.06-2.06.94z\"/><path d=\"M17.41 7.96l-1.37-1.37c-.4-.4-.92-.59-1.43-.59-.52 0-1.04.2-1.43.59L10.3 9.45l-7.72 7.72c-.78.78-.78 2.05 0 2.83L4 21.41c.39.39.9.59 1.41.59.51 0 1.02-.2 1.41-.59l7.78-7.78 2.81-2.81c.8-.78.8-2.07 0-2.86zM5.41 20L4 18.59l7.72-7.72 1.47 1.35L5.41 20z\"/>\n",
              "  </svg>\n",
              "      </button>\n",
              "      \n",
              "  <style>\n",
              "    .colab-df-container {\n",
              "      display:flex;\n",
              "      flex-wrap:wrap;\n",
              "      gap: 12px;\n",
              "    }\n",
              "\n",
              "    .colab-df-convert {\n",
              "      background-color: #E8F0FE;\n",
              "      border: none;\n",
              "      border-radius: 50%;\n",
              "      cursor: pointer;\n",
              "      display: none;\n",
              "      fill: #1967D2;\n",
              "      height: 32px;\n",
              "      padding: 0 0 0 0;\n",
              "      width: 32px;\n",
              "    }\n",
              "\n",
              "    .colab-df-convert:hover {\n",
              "      background-color: #E2EBFA;\n",
              "      box-shadow: 0px 1px 2px rgba(60, 64, 67, 0.3), 0px 1px 3px 1px rgba(60, 64, 67, 0.15);\n",
              "      fill: #174EA6;\n",
              "    }\n",
              "\n",
              "    [theme=dark] .colab-df-convert {\n",
              "      background-color: #3B4455;\n",
              "      fill: #D2E3FC;\n",
              "    }\n",
              "\n",
              "    [theme=dark] .colab-df-convert:hover {\n",
              "      background-color: #434B5C;\n",
              "      box-shadow: 0px 1px 3px 1px rgba(0, 0, 0, 0.15);\n",
              "      filter: drop-shadow(0px 1px 2px rgba(0, 0, 0, 0.3));\n",
              "      fill: #FFFFFF;\n",
              "    }\n",
              "  </style>\n",
              "\n",
              "      <script>\n",
              "        const buttonEl =\n",
              "          document.querySelector('#df-849a3c8f-7f5f-4f4e-9281-741b71196a06 button.colab-df-convert');\n",
              "        buttonEl.style.display =\n",
              "          google.colab.kernel.accessAllowed ? 'block' : 'none';\n",
              "\n",
              "        async function convertToInteractive(key) {\n",
              "          const element = document.querySelector('#df-849a3c8f-7f5f-4f4e-9281-741b71196a06');\n",
              "          const dataTable =\n",
              "            await google.colab.kernel.invokeFunction('convertToInteractive',\n",
              "                                                     [key], {});\n",
              "          if (!dataTable) return;\n",
              "\n",
              "          const docLinkHtml = 'Like what you see? Visit the ' +\n",
              "            '<a target=\"_blank\" href=https://colab.research.google.com/notebooks/data_table.ipynb>data table notebook</a>'\n",
              "            + ' to learn more about interactive tables.';\n",
              "          element.innerHTML = '';\n",
              "          dataTable['output_type'] = 'display_data';\n",
              "          await google.colab.output.renderOutput(dataTable, element);\n",
              "          const docLink = document.createElement('div');\n",
              "          docLink.innerHTML = docLinkHtml;\n",
              "          element.appendChild(docLink);\n",
              "        }\n",
              "      </script>\n",
              "    </div>\n",
              "  </div>\n",
              "  "
            ],
            "text/plain": [
              "                   Name  ...                                             URL_TA\n",
              "0                 FACIL  ...  https://www.tripadvisor.com/Restaurant_Review-...\n",
              "1        La Gondola Due  ...  https://www.tripadvisor.com/Restaurant_Review-...\n",
              "2     Ristorante A Mano  ...  https://www.tripadvisor.com/Restaurant_Review-...\n",
              "3  Restaurant Bieberbau  ...  https://www.tripadvisor.com/Restaurant_Review-...\n",
              "4               El Loco  ...  https://www.tripadvisor.com/Restaurant_Review-...\n",
              "\n",
              "[5 rows x 8 columns]"
            ]
          },
          "metadata": {},
          "execution_count": 35
        }
      ]
    },
    {
      "cell_type": "code",
      "metadata": {
        "id": "delRMgUNcFG2"
      },
      "source": [
        "# save clean data file as csv to google colab\n",
        "data.to_csv('/content/drive/MyDrive/E1326 Python Programming/Project: HertiEats/TAdata/TA_berlin_clean.csv', index=False)\n",
        "# The function \"data.to_csv\" saves the object \"data\" as a csv file in the filepath specified. Additionally we have used the \"False\" to avoid printing row names/fields for index names"
      ],
      "execution_count": 36,
      "outputs": []
    },
    {
      "cell_type": "markdown",
      "source": [
        "Some more data cleaning steps below."
      ],
      "metadata": {
        "id": "uLZ2Oy-OrmNK"
      }
    },
    {
      "cell_type": "code",
      "metadata": {
        "id": "_T7Ea_c0kCyw",
        "colab": {
          "base_uri": "https://localhost:8080/"
        },
        "outputId": "88c0a5d4-8e02-401c-99c9-a539f81475d5"
      },
      "source": [
        "# check first before converting columns into different types\n",
        "dfn = data.convert_dtypes()\n",
        "dfn.info()\n",
        "# The \".convert_dtypes\" command allows us to convert columns in object \"data\" to the optimal dtypes that support pd.NA. (due to our missing values)\n",
        "# New object/variable \"dfn\" is created \n",
        "# the \".info()\" function provides us with a summary of the dataframe including number of entries, number of columns and the types of variables in them"
      ],
      "execution_count": 37,
      "outputs": [
        {
          "output_type": "stream",
          "name": "stdout",
          "text": [
            "<class 'pandas.core.frame.DataFrame'>\n",
            "Int64Index: 3513 entries, 0 to 6370\n",
            "Data columns (total 8 columns):\n",
            " #   Column       Non-Null Count  Dtype  \n",
            "---  ------       --------------  -----  \n",
            " 0   Name         3513 non-null   string \n",
            " 1   Cuisine      3513 non-null   string \n",
            " 2   Ranking      3510 non-null   Int64  \n",
            " 3   Rating       3513 non-null   float64\n",
            " 4   Price        3513 non-null   string \n",
            " 5   ReviewCount  3440 non-null   Int64  \n",
            " 6   Reviews      3513 non-null   string \n",
            " 7   URL_TA       3513 non-null   string \n",
            "dtypes: Int64(2), float64(1), string(5)\n",
            "memory usage: 253.9 KB\n"
          ]
        }
      ]
    },
    {
      "cell_type": "code",
      "metadata": {
        "id": "5vUkABgIVoHi"
      },
      "source": [
        "# convert cuisine to list column = CuisineList\n",
        "data[\"CuisineList\"] = data[\"Cuisine\"].apply(eval)\n",
        "data.info()\n",
        "# We want to evaluate the data present as strings within \"Cuisine\" into another column i.e \"CuisineList\" that allows us to view the same data as lists\n",
        "# Aim to create a second list named \"CuisineList\" with its data as lists\n",
        "# The \".info()\" function provides us with a summary of the dataframe including number of entries, number of columns and the types of variables in them\n",
        "\n",
        "# check if changing to list works = yes\n",
        "for i, l in enumerate(data[\"CuisineList\"]):\n",
        "  print(\"list\",i,\"is\",type(l))\n",
        "  break\n",
        "# This code passes an iterable object in the argument of enumerate(), to get the index and elements \n",
        "# By using \"CuisineList\" as the subset within data in the \"enumerate\" function we set the type check for that particular column\n",
        "# Result list 0 is <class 'list'>\n",
        "# Note: data now contains two columns\n",
        "# Cuisine which is a column of lists read as strings\n",
        "# CuisineList which is a column of lists \n",
        "\n",
        "\n",
        "#Extraction of items from lists\n",
        "df = data.loc[data.Cuisine.str.contains('German|Mexican'), :] # extract items from cuisine using this syntax\n",
        "df.head()\n",
        "len(df)\n",
        "# The \".loc[]\" function allows us to access rows and column by labels and also incorporate a boolean array.\n",
        "# Using \"Series.str.contains()\"\" function, we set Cuisine as series/index and \"str.contains()\" tests if the regex or expression is present in a string. \n",
        "# The function returns boolean series/index if the specified regex is present within a string\n",
        "# The \".len()\" function is used to calculate the length of any iterable object\n",
        "\n",
        "# ADDITIONAL - Extraction method\n",
        "# or this option below for the cuisinelist column also works - probably better to save user choices in list form\n",
        "mycuisine = ['German', 'Mexican'] \n",
        "# save user preferences in list\n",
        "\n",
        "mask = data.CuisineList.apply(lambda x: any(item for item in mycuisine if item in x))\n",
        "# Create mask based on list\n",
        "# Masks are used to return elements/items that satify a condition\n",
        "# Lambda/s are anonymous functions can be defined without a name but are confined to a single line of expression\n",
        "# Here we apply lambda function to the CuisineList \n",
        "# \"any(item for item in mycuisine if item in x)\" this code satisfies the dynamic input given by the user\n",
        "# Can be read as List item for list item in column CuisineList if it staifies the elements as saved in \"mycuisine\" by the user\n",
        "# Masks are used to return elements/items that satify a condition, here what ever is entered in \"mycuisine\" as the the end user preference \n",
        "\n",
        "df1 = data[mask] \n",
        "# new dataframe extracts only German and/or Mexican cuisines\n",
        "# \"df1\" is the new dataframe\n",
        "\n",
        "\n",
        "df1.head()\n",
        "len(df1)\n",
        "# The \".len()\" Function is used to calculate the length of any iterable object\n",
        "\n",
        "\n",
        "# Similar example for reviews column\n",
        "rev = data.loc[data.Reviews.str.contains('Excellent'), :] # extract items from reviews column using this syntax \n",
        "rev.head()\n",
        "len(rev)\n",
        "\n",
        "# The \".loc[]\" function allows us to access rows and column by labels and also incorporate a boolean array.\n",
        "# Using \"Series.str.contains()\"\" function, we set Reviews as series/index and \"str.contains()\" tests if the regex or expression is present in a string. \n",
        "# The function returns boolean series/index if the specified regex is present within a string\n",
        "# the \".head()\" function return the first 5 default rows\n",
        "# The \".len()\" function is used to calculate the length of any iterable object"
      ],
      "execution_count": null,
      "outputs": []
    },
    {
      "cell_type": "markdown",
      "metadata": {
        "id": "k5lrS9rjqnJ6"
      },
      "source": [
        "# Module 4\n",
        "\n",
        "## Generate a list of restaurants\n",
        "\n",
        "The program will reference the database to find restaurants matching the input provided by the user. This list of restaurants can be further refined by the user by showing optional parameters:\n",
        "- Type of cuisine\n",
        "- Dietary preferences, e.g. vegetarianism, veganism  \n",
        "- Number and snippet of reviews\n",
        "\n",
        "The program will generate a final restaurant list that fulfills the goal of providing the user with preferred dining options while incorporating the user's eating preferences.\n"
      ]
    },
    {
      "cell_type": "code",
      "metadata": {
        "id": "BKeBB7KwskJm"
      },
      "source": [
        "# Function to compare input vs cuisine values in the df. \n",
        "# Run this function over every row in the dataframe and add matches to a new df\n",
        "def compareCuisine(UserCuisine, restaurantCuisine): # make sure user inputs string\n",
        "  return UserCuisine in restaurantCuisine # returns true or false\n",
        "# A keyword for defining the specific function is \"def\"\n",
        "# Here \"compareCuisine\" is defined as a comparision between elements in UserCuisine and restaurantCuisine\n",
        "# The function \"return\" allows us to send the result back to the caller. \n",
        "# Here whichever element in restaurantCuisine match with the elements present in UserCuisine, they are sent to the caller\n",
        "\n",
        "def compareRating(UserRating, restaurantRating): # make sure user input is a numerical value (float)\n",
        "  return restaurantRating >= UserRating\n",
        "\n",
        "# Here \"compareRating\" is defined as a comparision between elements in UserRating and restaurantRating\n",
        "# Elements in the restaurantRating are returned/matched if it is Equal or Greater than the UserRating\n",
        "\n",
        "def comparePrice(UserPrice, restaurantPrice):\n",
        "  return UserPrice == restaurantPrice\n",
        "\n",
        "# Here \"comparePrice\" is defined as a comparision between elements in UserPrice and restaurantPrice\n",
        "# Elements in the restaurantRating are returned/matched if it is Equal to the price option chosen in UserPrice \n"
      ],
      "execution_count": 44,
      "outputs": []
    },
    {
      "cell_type": "code",
      "metadata": {
        "id": "XldMsQQsYTPX"
      },
      "source": [
        "#Create an empty dataframe that the results will be added into\n",
        "results = pd.DataFrame(columns= [\"Name\", \"Cuisine\", \"Rating\", \"Price\", \"ReviewCount\", \"Reviews\", \"URL_TA\"])\n",
        "#print(\"Empty df\", results, sep='\\n')\n",
        "\n",
        "#\"pd.DataFrame\" function creates a mutable 2 Dimensional tabular data, it allows us to create a data structure that has labled columns and rows\n",
        "# The column are lablled as \"Name\", \"Cuisine\", \"Rating\", \"Price\", \"ReviewCount\", \"Reviews\", \"URL_TA\"\n",
        "# The \"print\" function here if utilized will be able to tell us if the dataframe is empty of not using TRUE/FLASE condition"
      ],
      "execution_count": 45,
      "outputs": []
    },
    {
      "cell_type": "code",
      "metadata": {
        "id": "ypxH2U4XYkN4"
      },
      "source": [
        "#Add the compare funtions for all three variables into a function that will add the values that are \"true\" into the results DF. \n",
        "for i, restaurant in berlin.iterrows():\n",
        "    if compareCuisine(Cuisine, restaurant['Cuisine']) and comparePrice(Price, restaurant['Price']) and compareRating(Rating, restaurant[\"Rating\"]):\n",
        "      #print(restaurant)\n",
        "      results = results.append(restaurant, ignore_index=True)\n",
        "      #results.append(restaurant, ignore_index=True)"
      ],
      "execution_count": 46,
      "outputs": []
    },
    {
      "cell_type": "code",
      "metadata": {
        "colab": {
          "base_uri": "https://localhost:8080/",
          "height": 379
        },
        "id": "IdFdRWV4EHPQ",
        "outputId": "c31904d6-3ebb-48c2-f63a-001458f8f8d6"
      },
      "source": [
        "data_table.DataTable(results.head(), include_index=False, num_rows_per_page=10)\n",
        "#As we know the \".head()\" function returns the first n rows, here num_rows_per_page is set as 10 "
      ],
      "execution_count": 47,
      "outputs": [
        {
          "output_type": "execute_result",
          "data": {
            "application/vnd.google.colaboratory.module+javascript": "\n      import \"https://ssl.gstatic.com/colaboratory/data_table/a6224c040fa35dcf/data_table.js\";\n\n      window.createDataTable({\n        data: [[\"Lia's Kitchen 100% Vegan\",\n\"['Fast Food', 'American', 'Healthy', 'European', 'Vegetarian Friendly', 'Vegan Options']\",\n{\n            'v': 5.0,\n            'f': \"5.0\",\n        },\n\"Low\",\n{\n            'v': 44.0,\n            'f': \"44.0\",\n        },\n\"[['Best vegan place in Berlin', 'Great vegan dinner'], ['01/04/2018', '12/14/2017']]\",\n\"https://www.tripadvisor.com/Restaurant_Review-g187323-d11843585-Reviews-Lia_s_Kitchen_100_Vegan-Berlin.html\",\n{\n            'v': 171.0,\n            'f': \"171.0\",\n        }],\n [\"Cafe Mugrabi\",\n\"['Cafe', 'Healthy', 'Middle Eastern', 'Israeli', 'Mediterranean', 'Vegetarian Friendly']\",\n{\n            'v': 5.0,\n            'f': \"5.0\",\n        },\n\"Low\",\n{\n            'v': 16.0,\n            'f': \"16.0\",\n        },\n\"[['Great food great people', 'Amazing food'], ['10/08/2017', '08/25/2017']]\",\n\"https://www.tripadvisor.com/Restaurant_Review-g187323-d10819300-Reviews-Cafe_Mugrabi-Berlin.html\",\n{\n            'v': 1276.0,\n            'f': \"1276.0\",\n        }],\n [\"Crunch Kantine\",\n\"['Mediterranean', 'International', 'Fusion', 'Healthy', 'European', 'Vegetarian Friendly']\",\n{\n            'v': 5.0,\n            'f': \"5.0\",\n        },\n\"Low\",\n{\n            'v': 26.0,\n            'f': \"26.0\",\n        },\n\"[['Awesome lunch box', 'Fabulous!'], ['09/23/2017', '03/04/2017']]\",\n\"https://www.tripadvisor.com/Restaurant_Review-g187323-d9564713-Reviews-Crunch_Kantine-Berlin.html\",\n{\n            'v': 1410.0,\n            'f': \"1410.0\",\n        }],\n [\"Superfran's Feinkost-Manufaktur\",\n\"['Healthy', 'Vegan Options']\",\n{\n            'v': 5.0,\n            'f': \"5.0\",\n        },\n\"Low\",\n{\n            'v': 4.0,\n            'f': \"4.0\",\n        },\n\"[['Raw Vegan food at its best', 'So yummy! Unglaublich lecker!'], ['10/13/2017', '07/24/2017']]\",\n\"https://www.tripadvisor.com/Restaurant_Review-g187323-d8655449-Reviews-Superfran_s_Feinkost_Manufaktur-Berlin.html\",\n{\n            'v': 2404.0,\n            'f': \"2404.0\",\n        }],\n [\"Alin Gaza Kitchen\",\n\"['Mediterranean', 'Healthy', 'Street Food', 'Arabic', 'Middle Eastern', 'Vegetarian Friendly', 'Vegan Options']\",\n{\n            'v': 5.0,\n            'f': \"5.0\",\n        },\n\"Low\",\n{\n            'v': 7.0,\n            'f': \"7.0\",\n        },\n\"[['Excellent food truck! Best Hummus in Berli...', 'Best in Wedding'], ['11/29/2017', '05/25/2017']]\",\n\"https://www.tripadvisor.com/Restaurant_Review-g187323-d8754338-Reviews-Alin_Gaza_Kitchen-Berlin.html\",\n{\n            'v': 2570.0,\n            'f': \"2570.0\",\n        }]],\n        columns: [[\"string\", \"Name\"], [\"string\", \"Cuisine\"], [\"number\", \"Rating\"], [\"string\", \"Price\"], [\"number\", \"ReviewCount\"], [\"string\", \"Reviews\"], [\"string\", \"URL_TA\"], [\"number\", \"Ranking\"]],\n        columnOptions: [],\n        rowsPerPage: 10,\n        helpUrl: \"https://colab.research.google.com/notebooks/data_table.ipynb\",\n        suppressOutputScrolling: true,\n        minimumWidth: undefined,\n      });\n    ",
            "text/plain": [
              "<google.colab.data_table.DataTable object>"
            ],
            "text/html": [
              "<div>\n",
              "<style scoped>\n",
              "    .dataframe tbody tr th:only-of-type {\n",
              "        vertical-align: middle;\n",
              "    }\n",
              "\n",
              "    .dataframe tbody tr th {\n",
              "        vertical-align: top;\n",
              "    }\n",
              "\n",
              "    .dataframe thead th {\n",
              "        text-align: right;\n",
              "    }\n",
              "</style>\n",
              "<table border=\"1\" class=\"dataframe\">\n",
              "  <thead>\n",
              "    <tr style=\"text-align: right;\">\n",
              "      <th></th>\n",
              "      <th>Name</th>\n",
              "      <th>Cuisine</th>\n",
              "      <th>Rating</th>\n",
              "      <th>Price</th>\n",
              "      <th>ReviewCount</th>\n",
              "      <th>Reviews</th>\n",
              "      <th>URL_TA</th>\n",
              "      <th>Ranking</th>\n",
              "    </tr>\n",
              "  </thead>\n",
              "  <tbody>\n",
              "    <tr>\n",
              "      <th>0</th>\n",
              "      <td>Lia's Kitchen 100% Vegan</td>\n",
              "      <td>['Fast Food', 'American', 'Healthy', 'European...</td>\n",
              "      <td>5.0</td>\n",
              "      <td>Low</td>\n",
              "      <td>44.0</td>\n",
              "      <td>[['Best vegan place in Berlin', 'Great vegan d...</td>\n",
              "      <td>https://www.tripadvisor.com/Restaurant_Review-...</td>\n",
              "      <td>171.0</td>\n",
              "    </tr>\n",
              "    <tr>\n",
              "      <th>1</th>\n",
              "      <td>Cafe Mugrabi</td>\n",
              "      <td>['Cafe', 'Healthy', 'Middle Eastern', 'Israeli...</td>\n",
              "      <td>5.0</td>\n",
              "      <td>Low</td>\n",
              "      <td>16.0</td>\n",
              "      <td>[['Great food great people', 'Amazing food'], ...</td>\n",
              "      <td>https://www.tripadvisor.com/Restaurant_Review-...</td>\n",
              "      <td>1276.0</td>\n",
              "    </tr>\n",
              "    <tr>\n",
              "      <th>2</th>\n",
              "      <td>Crunch Kantine</td>\n",
              "      <td>['Mediterranean', 'International', 'Fusion', '...</td>\n",
              "      <td>5.0</td>\n",
              "      <td>Low</td>\n",
              "      <td>26.0</td>\n",
              "      <td>[['Awesome lunch box', 'Fabulous!'], ['09/23/2...</td>\n",
              "      <td>https://www.tripadvisor.com/Restaurant_Review-...</td>\n",
              "      <td>1410.0</td>\n",
              "    </tr>\n",
              "    <tr>\n",
              "      <th>3</th>\n",
              "      <td>Superfran's Feinkost-Manufaktur</td>\n",
              "      <td>['Healthy', 'Vegan Options']</td>\n",
              "      <td>5.0</td>\n",
              "      <td>Low</td>\n",
              "      <td>4.0</td>\n",
              "      <td>[['Raw Vegan food at its best', 'So yummy! Ung...</td>\n",
              "      <td>https://www.tripadvisor.com/Restaurant_Review-...</td>\n",
              "      <td>2404.0</td>\n",
              "    </tr>\n",
              "    <tr>\n",
              "      <th>4</th>\n",
              "      <td>Alin Gaza Kitchen</td>\n",
              "      <td>['Mediterranean', 'Healthy', 'Street Food', 'A...</td>\n",
              "      <td>5.0</td>\n",
              "      <td>Low</td>\n",
              "      <td>7.0</td>\n",
              "      <td>[['Excellent food truck! Best Hummus in Berli....</td>\n",
              "      <td>https://www.tripadvisor.com/Restaurant_Review-...</td>\n",
              "      <td>2570.0</td>\n",
              "    </tr>\n",
              "  </tbody>\n",
              "</table>\n",
              "</div>"
            ]
          },
          "metadata": {},
          "execution_count": 47
        }
      ]
    },
    {
      "cell_type": "markdown",
      "metadata": {
        "id": "3WXHEv-HqoI4"
      },
      "source": [
        "# Module 5 \n",
        "\n",
        "## Desired output - Restaurant options in a hyperlinked list \n",
        "\n",
        "The output is the list of restaurants, which will be viewable in the console as text or as an HTML file \n"
      ]
    },
    {
      "cell_type": "code",
      "source": [
        "#FINAL OUTPUT\n",
        "#The code is creating an HTML file by writing strings to a file.\n",
        "#The string is being saved as text, but do to the formating, the system reads the text as HTML\n",
        "opening_html_code = \"\"\"<!DOCTYPE html>\\n\n",
        "<html>\\n\n",
        "   <body>\\n\n",
        "      <h1>Search Results for Restaurants:</h1>\\n\n",
        "      \"\"\"\n",
        "#resturant_names variable is created \n",
        "restaurant_names = \"\"\n",
        "for ind in results.index:\n",
        "      restaurant_names+= \"<p><a href=\\\"\" + results[\"URL_TA\"][ind] + \"\\\">\" + results['Name'][ind] + \"</a></p>\\n\"     \n",
        "#loops though results dataframe and hyperlinks the restaurant name to its URL\n",
        "# ind is the index number , reults.index returns a list with all the index numbers in results, supposing results.index = [0,1,2,3] ind will be first 1, then 1 in the next loop and then 2 in the next loop and soforth\n",
        "# the href specifies the URL of a page the link should go to.\n",
        "\n",
        "#code to close or complete our desired HTML page \n",
        "ending_html_code = \"\"\" \n",
        "<br> \n",
        "<br> \n",
        "<br> \n",
        "<br> \n",
        "<br> \n",
        "<br> \n",
        "<br>\n",
        "<br> \n",
        "<br> \n",
        "<br> \n",
        "<br> \n",
        "<br> \n",
        "<br> \n",
        "<br>\n",
        "   </body>\\n\n",
        "</html>\\n\"\"\" \n",
        "#Utilized a lot of <BR> breaks, as I could not figure out a more elegant solution to make the display bigger\n",
        "\n",
        "# Here we created a varible that combined the HTML creation code + the variable \"restaurant_names\" (in which the restaurant names have been hyperlinked with their URLs) + the completion end of an HTML file \n",
        "total_html_code = opening_html_code + restaurant_names + ending_html_code\n",
        "#print(total_html_code)\n",
        "\n",
        "#This variable is just a step that allows us to write the html file into our drive\n",
        "FinList = open(\"/content/drive/MyDrive/E1326 Python Programming/Project: HertiEats/ResturantList.html\",\"w\") #Please rename this variable as needed to adjust to your drive \n",
        "# 'w' is write mode for files\n",
        "FinList.write(total_html_code)\n",
        "#the html writes in the variable we created above 'total_html_code'\n",
        "FinList.close()\n",
        "#html ends with .close()\n",
        "\n",
        "#Displays the html file\n",
        "import IPython\n",
        "#the import function is used for the IPython which is a command shell for interactive computing that will enable us to view the output in the console\n",
        "IPython.display.HTML(filename='/content/drive/MyDrive/E1326 Python Programming/Project: HertiEats/ResturantList.html')  \n",
        "#.display.HTML function calls the html created earlier \n",
        "# The restaurant recommendation should now be visable to you and you can click on the resturant name to be linked to their url on tripadvisor\n"
      ],
      "metadata": {
        "id": "j_tzSx1qrnER",
        "colab": {
          "base_uri": "https://localhost:8080/",
          "height": 483
        },
        "outputId": "e6f813da-c360-4892-a73e-d69e10d9ee3a"
      },
      "execution_count": 48,
      "outputs": [
        {
          "output_type": "execute_result",
          "data": {
            "text/html": [
              "<!DOCTYPE html>\n",
              "\n",
              "<html>\n",
              "\n",
              "   <body>\n",
              "\n",
              "      <h1>Search Results for Restaurants:</h1>\n",
              "\n",
              "      <p><a href=\"https://www.tripadvisor.com/Restaurant_Review-g187323-d11843585-Reviews-Lia_s_Kitchen_100_Vegan-Berlin.html\">Lia's Kitchen 100% Vegan</a></p>\n",
              "<p><a href=\"https://www.tripadvisor.com/Restaurant_Review-g187323-d10819300-Reviews-Cafe_Mugrabi-Berlin.html\">Cafe Mugrabi</a></p>\n",
              "<p><a href=\"https://www.tripadvisor.com/Restaurant_Review-g187323-d9564713-Reviews-Crunch_Kantine-Berlin.html\">Crunch Kantine</a></p>\n",
              "<p><a href=\"https://www.tripadvisor.com/Restaurant_Review-g187323-d8655449-Reviews-Superfran_s_Feinkost_Manufaktur-Berlin.html\">Superfran's Feinkost-Manufaktur</a></p>\n",
              "<p><a href=\"https://www.tripadvisor.com/Restaurant_Review-g187323-d8754338-Reviews-Alin_Gaza_Kitchen-Berlin.html\">Alin Gaza Kitchen</a></p>\n",
              "<p><a href=\"https://www.tripadvisor.com/Restaurant_Review-g187323-d10525854-Reviews-Board_Eau-Berlin.html\">Board'Eau</a></p>\n",
              "<p><a href=\"https://www.tripadvisor.com/Restaurant_Review-g187323-d11885118-Reviews-Fitbar-Berlin.html\">Fitbar</a></p>\n",
              " \n",
              "<br> \n",
              "<br> \n",
              "<br> \n",
              "<br> \n",
              "<br> \n",
              "<br> \n",
              "<br>\n",
              "<br> \n",
              "<br> \n",
              "<br> \n",
              "<br> \n",
              "<br> \n",
              "<br> \n",
              "<br>\n",
              "   </body>\n",
              "\n",
              "</html>\n"
            ],
            "text/plain": [
              "<IPython.core.display.HTML object>"
            ]
          },
          "metadata": {},
          "execution_count": 48
        }
      ]
    }
  ]
}